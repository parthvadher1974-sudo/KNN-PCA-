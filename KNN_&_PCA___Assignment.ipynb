{
  "nbformat": 4,
  "nbformat_minor": 0,
  "metadata": {
    "colab": {
      "provenance": []
    },
    "kernelspec": {
      "name": "python3",
      "display_name": "Python 3"
    },
    "language_info": {
      "name": "python"
    }
  },
  "cells": [
    {
      "cell_type": "markdown",
      "source": [
        "#Question 1: What is K-Nearest Neighbors (KNN) and how does it work in both classification and regression problems?\n",
        "Answer:\n",
        "K-Nearest Neighbors is a supervised machine learning algorithm used for\n",
        "classification and regression tasks. Its called lazy learning because it doesn’t explicitly\n",
        "build a model during training it just stores the data and makes predictions at query\n",
        "time.\n",
        "*In classification, prediction is based on the majority class of neighbors.\n",
        "*In regression, prediction is based on the average value of neighbors."
      ],
      "metadata": {
        "id": "r_g5LIVpXUxh"
      }
    },
    {
      "cell_type": "markdown",
      "source": [
        "#Question 2: What is the Curse of Dimensionality and how does it affect KNN performance?\n",
        "Answer:\n",
        "The curse of dimensionality refers to the problems that arise when working with\n",
        "high-dimensional data.\n",
        "*Nearest neighbor becomes less meaningful\n",
        "*Increased risk of overfitting\n",
        "*Higher computational cost"
      ],
      "metadata": {
        "id": "MrnXHdd9XhJf"
      }
    },
    {
      "cell_type": "markdown",
      "source": [
        "#Question 3: What is Principal Component Analysis (PCA)? How is it different from feature selection?\n",
        "Answer:\n",
        "Principal Component Analysis(PCA) is a dimensionally reduction technique that\n",
        "transforms the original features into a new set of features called principal\n",
        "components.\n",
        "Feature selection- Selecting a subset of the original feature that are most relevant.\n",
        "Keeps some of the original feature.\n",
        "Remove irrelevant/redundant features.\n",
        "Easy to interpret."
      ],
      "metadata": {
        "id": "pv0AZvvyXxs_"
      }
    },
    {
      "cell_type": "markdown",
      "source": [
        "#Question 4: What are eigenvalues and eigenvectors in PCA, and why are they important?\n",
        "Answer:\n",
        "Aν = λν\n",
        "Here ν = eigenvector\n",
        "λ = eigenvalue (a scalar)\n",
        "Importance:\n",
        "*Eigenvectors define principal components\n",
        "*Eigenvalues tell us the importance\n",
        "*Dimensionally reduction"
      ],
      "metadata": {
        "id": "LLBlf441X4PX"
      }
    },
    {
      "cell_type": "markdown",
      "source": [
        "#Question 5: How do KNN and PCA complement each other when applied in a single pipeline?\n",
        "Answer:\n",
        "*PCA transforms high-dimensional data into a smaller set of informative features.\n",
        "*KNN then classifies or predicts based on distance in this reduced space.\n",
        "*Both complement each other because PCA reduces dimensionally and makes\n",
        "distance more meaningful, while KNN use those distance for prediction.\n",
        "*The combo reduces curse of dimensionality, improves efficiency, and often increases\n",
        "accuracy"
      ],
      "metadata": {
        "id": "w9xAZAtbX8qP"
      }
    },
    {
      "cell_type": "code",
      "execution_count": 2,
      "metadata": {
        "colab": {
          "base_uri": "https://localhost:8080/"
        },
        "id": "Yos09HYiXM7O",
        "outputId": "e9cf8075-0f64-46ff-e493-95401d815600"
      },
      "outputs": [
        {
          "output_type": "stream",
          "name": "stdout",
          "text": [
            "Accuracy without Scaling: 0.7222222222222222\n",
            "Accuracy with Scaling   : 0.9444444444444444\n"
          ]
        }
      ],
      "source": [
        "#Dataset:\n",
        "\"\"\"Use the Wine Dataset from sklearn.datasets.load_wine().\n",
        "Question 6: Train a KNN Classifier on the Wine dataset with and without feature\n",
        "scaling. Compare model accuracy in both cases.\n",
        "(Include your Python code and output in the code box below.)\"\"\"\n",
        "from sklearn.datasets import load_wine\n",
        "from sklearn.model_selection import train_test_split\n",
        "from sklearn.preprocessing import StandardScaler\n",
        "from sklearn.neighbors import KNeighborsClassifier\n",
        "from sklearn.metrics import accuracy_score\n",
        "\n",
        "wine = load_wine()\n",
        "X, y = wine.data, wine.target\n",
        "\n",
        "X_train, X_test, y_train, y_test = train_test_split(X, y, test_size=0.3, random_state=42, stratify=y)\n",
        "knn_no_scaling = KNeighborsClassifier(n_neighbors=5)\n",
        "knn_no_scaling.fit(X_train, y_train)\n",
        "y_pred_no_scaling = knn_no_scaling.predict(X_test)\n",
        "acc_no_scaling = accuracy_score(y_test, y_pred_no_scaling)\n",
        "scaler = StandardScaler()\n",
        "X_train_scaled = scaler.fit_transform(X_train)\n",
        "X_test_scaled = scaler.transform(X_test)\n",
        "knn_scaling = KNeighborsClassifier(n_neighbors=5)\n",
        "knn_scaling.fit(X_train_scaled, y_train)\n",
        "y_pred_scaling = knn_scaling.predict(X_test_scaled)\n",
        "acc_scaling = accuracy_score(y_test, y_pred_scaling)\n",
        "print(\"Accuracy without Scaling:\", acc_no_scaling)\n",
        "print(\"Accuracy with Scaling   :\", acc_scaling)\n"
      ]
    },
    {
      "cell_type": "code",
      "source": [
        "\"\"\"Question 7: Train a PCA model on the Wine dataset and print the explained variance\n",
        "ratio of each principal component.\n",
        "(Include your Python code and output in the code box below.)\"\"\"\n",
        "from sklearn.datasets import load_wine\n",
        "from sklearn.preprocessing import StandardScaler\n",
        "from sklearn.decomposition import PCA\n",
        "wine = load_wine()\n",
        "X, y = wine.data, wine.target\n",
        "scaler = StandardScaler()\n",
        "X_scaled = scaler.fit_transform(X)\n",
        "pca = PCA()\n",
        "pca.fit(X_scaled)\n",
        "print(\"Explained Variance Ratio of each Principal Component:\")\n",
        "print(pca.explained_variance_ratio_)\n"
      ],
      "metadata": {
        "colab": {
          "base_uri": "https://localhost:8080/"
        },
        "id": "_ugXizYlYWq4",
        "outputId": "0f906b42-1652-4489-ebe5-13b808c8257e"
      },
      "execution_count": 3,
      "outputs": [
        {
          "output_type": "stream",
          "name": "stdout",
          "text": [
            "Explained Variance Ratio of each Principal Component:\n",
            "[0.36198848 0.1920749  0.11123631 0.0706903  0.06563294 0.04935823\n",
            " 0.04238679 0.02680749 0.02222153 0.01930019 0.01736836 0.01298233\n",
            " 0.00795215]\n"
          ]
        }
      ]
    },
    {
      "cell_type": "code",
      "source": [
        "\"\"\"Question 8: Train a KNN Classifier on the PCA-transformed dataset (retain top 2\n",
        "components). Compare the accuracy with the original dataset.\n",
        "(Include your Python code and output in the code box below.)\"\"\"\n",
        "from sklearn.datasets import load_wine\n",
        "from sklearn.model_selection import train_test_split\n",
        "from sklearn.preprocessing import StandardScaler\n",
        "from sklearn.decomposition import PCA\n",
        "from sklearn.neighbors import KNeighborsClassifier\n",
        "from sklearn.metrics import accuracy_score\n",
        "\n",
        "wine = load_wine()\n",
        "X, y = wine.data, wine.target\n",
        "\n",
        "X_train, X_test, y_train, y_test = train_test_split(X, y, test_size=0.3, random_state=42, stratify=y)\n",
        "\n",
        "scaler = StandardScaler()\n",
        "X_train_scaled = scaler.fit_transform(X_train)\n",
        "X_test_scaled = scaler.transform(X_test)\n",
        "\n",
        "knn_original = KNeighborsClassifier(n_neighbors=5)\n",
        "knn_original.fit(X_train_scaled, y_train)\n",
        "y_pred_original = knn_original.predict(X_test_scaled)\n",
        "acc_original = accuracy_score(y_test, y_pred_original)\n",
        "\n",
        "pca = PCA(n_components=2)\n",
        "X_train_pca = pca.fit_transform(X_train_scaled)\n",
        "X_test_pca = pca.transform(X_test_scaled)\n",
        "\n",
        "knn_pca = KNeighborsClassifier(n_neighbors=5)\n",
        "knn_pca.fit(X_train_pca, y_train)\n",
        "y_pred_pca = knn_pca.predict(X_test_pca)\n",
        "acc_pca = accuracy_score(y_test, y_pred_pca)\n",
        "\n",
        "print(\"Accuracy with Original Dataset:\", acc_original)\n",
        "print(\"Accuracy with PCA (2 components):\", acc_pca)\n"
      ],
      "metadata": {
        "colab": {
          "base_uri": "https://localhost:8080/"
        },
        "id": "zdfGTkgCYp84",
        "outputId": "3a136207-0f2b-49a0-957c-f2ce257d3f05"
      },
      "execution_count": 4,
      "outputs": [
        {
          "output_type": "stream",
          "name": "stdout",
          "text": [
            "Accuracy with Original Dataset: 0.9444444444444444\n",
            "Accuracy with PCA (2 components): 0.9444444444444444\n"
          ]
        }
      ]
    },
    {
      "cell_type": "code",
      "source": [
        "\"\"\"Question 9: Train a KNN Classifier with different distance metrics (euclidean,\n",
        "manhattan) on the scaled Wine dataset and compare the results. (Include your\n",
        "Python code and output in the code box below.)\"\"\"\n",
        "from sklearn.datasets import load_wine\n",
        "from sklearn.model_selection import train_test_split\n",
        "from sklearn.preprocessing import StandardScaler\n",
        "from sklearn.neighbors import KNeighborsClassifier\n",
        "from sklearn.metrics import accuracy_score\n",
        "\n",
        "wine = load_wine()\n",
        "X, y = wine.data, wine.target\n",
        "\n",
        "X_train, X_test, y_train, y_test = train_test_split(X, y, test_size=0.3, random_state=42, stratify=y)\n",
        "\n",
        "scaler = StandardScaler()\n",
        "X_train_scaled = scaler.fit_transform(X_train)\n",
        "X_test_scaled = scaler.transform(X_test)\n",
        "\n",
        "knn_euclidean = KNeighborsClassifier(n_neighbors=5, metric='euclidean')\n",
        "knn_euclidean.fit(X_train_scaled, y_train)\n",
        "y_pred_euclidean = knn_euclidean.predict(X_test_scaled)\n",
        "acc_euclidean = accuracy_score(y_test, y_pred_euclidean)\n",
        "\n",
        "knn_manhattan = KNeighborsClassifier(n_neighbors=5, metric='manhattan')\n",
        "knn_manhattan.fit(X_train_scaled, y_train)\n",
        "y_pred_manhattan = knn_manhattan.predict(X_test_scaled)\n",
        "acc_manhattan = accuracy_score(y_test, y_pred_manhattan)\n",
        "\n",
        "print(\"Accuracy with Euclidean Distance:\", acc_euclidean)\n",
        "print(\"Accuracy with Manhattan Distance:\", acc_manhattan)\n"
      ],
      "metadata": {
        "colab": {
          "base_uri": "https://localhost:8080/"
        },
        "id": "Z8EhLbxVY33I",
        "outputId": "0190a41d-7f98-48fd-e0bd-c8cd5883cbac"
      },
      "execution_count": 5,
      "outputs": [
        {
          "output_type": "stream",
          "name": "stdout",
          "text": [
            "Accuracy with Euclidean Distance: 0.9444444444444444\n",
            "Accuracy with Manhattan Distance: 0.9814814814814815\n"
          ]
        }
      ]
    },
    {
      "cell_type": "code",
      "source": [
        "\"\"\"Question 10: You are working with a high-dimensional gene expression dataset to\n",
        "classify patients with different types of cancer.\n",
        "Due to the large number of features and a small number of samples, traditional models\n",
        "overfit.\n",
        "Explain how you would:\n",
        "● Use PCA to reduce dimensionality\n",
        "● Decide how many components to keep\n",
        "● Use KNN for classification post-dimensionality reduction\n",
        "● Evaluate the model\n",
        "● Justify this pipeline to your stakeholders as a robust solution for real-world\n",
        "biomedical data\n",
        "(Include your Python code and output in the code box below.)\"\"\"\n",
        "from sklearn.datasets import load_wine  # using Wine dataset as example, similar process for gene expression\n",
        "from sklearn.model_selection import train_test_split\n",
        "from sklearn.preprocessing import StandardScaler\n",
        "from sklearn.decomposition import PCA\n",
        "from sklearn.neighbors import KNeighborsClassifier\n",
        "from sklearn.metrics import accuracy_score\n",
        "\n",
        "wine = load_wine()\n",
        "X, y = wine.data, wine.target\n",
        "\n",
        "X_train, X_test, y_train, y_test = train_test_split(X, y, test_size=0.3, random_state=42, stratify=y)\n",
        "\n",
        "scaler = StandardScaler()\n",
        "X_train_scaled = scaler.fit_transform(X_train)\n",
        "X_test_scaled = scaler.transform(X_test)\n",
        "\n",
        "pca = PCA(n_components=0.95)\n",
        "X_train_pca = pca.fit_transform(X_train_scaled)\n",
        "X_test_pca = pca.transform(X_test_scaled)\n",
        "\n",
        "knn = KNeighborsClassifier(n_neighbors=5, metric='euclidean')\n",
        "knn.fit(X_train_pca, y_train)\n",
        "y_pred = knn.predict(X_test_pca)\n",
        "accuracy = accuracy_score(y_test, y_pred)\n",
        "\n",
        "print(\"Number of PCA Components Retained:\", pca.n_components_)\n",
        "print(\"Explained Variance Ratio (each component):\", pca.explained_variance_ratio_)\n",
        "print(\"Model Accuracy after PCA + KNN:\", accuracy)\n",
        "\n"
      ],
      "metadata": {
        "colab": {
          "base_uri": "https://localhost:8080/"
        },
        "id": "XK_D8D4KZLL_",
        "outputId": "7d72a267-59fb-474b-e935-c131f9d14213"
      },
      "execution_count": 6,
      "outputs": [
        {
          "output_type": "stream",
          "name": "stdout",
          "text": [
            "Number of PCA Components Retained: 10\n",
            "Explained Variance Ratio (each component): [0.35730453 0.19209164 0.11006755 0.07250719 0.06973166 0.05341402\n",
            " 0.04555029 0.0241568  0.02040417 0.01976974]\n",
            "Model Accuracy after PCA + KNN: 0.9444444444444444\n"
          ]
        }
      ]
    },
    {
      "cell_type": "code",
      "source": [],
      "metadata": {
        "id": "9xpfj5tCZY8A"
      },
      "execution_count": null,
      "outputs": []
    }
  ]
}